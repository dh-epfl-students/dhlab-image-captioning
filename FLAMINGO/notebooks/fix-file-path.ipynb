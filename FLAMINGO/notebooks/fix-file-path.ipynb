{
 "cells": [
  {
   "cell_type": "code",
   "execution_count": 13,
   "metadata": {},
   "outputs": [],
   "source": [
    "import csv\n",
    "\n",
    "file_path = '.csv'  # Replace with the actual path to your CSV file\n",
    "\n",
    "# Read the CSV file and modify the first column for all rows\n",
    "with open(file_path, 'r', newline='') as csvfile:\n",
    "    reader = csv.reader(csvfile)\n",
    "    rows = [row for row in reader]\n",
    "\n",
    "# Modify the first column for all rows by popping the first three characters\n",
    "for row in rows:\n",
    "    if row:  # Check if the row is not empty\n",
    "        row[0] = row[0][3:] if isinstance(row[0], str) and len(row[0]) > 3 else row[0]\n",
    "\n",
    "# Write the modified rows back to the CSV file\n",
    "with open(file_path, 'w', newline='') as csvfile:\n",
    "    writer = csv.writer(csvfile)\n",
    "    writer.writerows(rows)"
   ]
  }
 ],
 "metadata": {
  "kernelspec": {
   "display_name": "ENV_INES",
   "language": "python",
   "name": "python3"
  },
  "language_info": {
   "codemirror_mode": {
    "name": "ipython",
    "version": 3
   },
   "file_extension": ".py",
   "mimetype": "text/x-python",
   "name": "python",
   "nbconvert_exporter": "python",
   "pygments_lexer": "ipython3",
   "version": "3.10.4"
  }
 },
 "nbformat": 4,
 "nbformat_minor": 2
}
